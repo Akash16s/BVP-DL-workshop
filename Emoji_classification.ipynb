{
 "cells": [
  {
   "cell_type": "code",
   "execution_count": 66,
   "metadata": {},
   "outputs": [],
   "source": [
    "import emoji\n",
    "import pandas as pd \n",
    "import numpy as np\n",
    "from glove_vec import read_glove_vectors\n",
    "from keras.models import Sequential\n",
    "from keras.layers import Dense\n",
    "from keras.optimizers import Adam\n",
    "from keras.utils import np_utils\n",
    "from matplotlib import pyplot as plt"
   ]
  },
  {
   "cell_type": "code",
   "execution_count": 32,
   "metadata": {},
   "outputs": [],
   "source": [
    "data = pd.read_csv(\"./train_emoji.csv\", header=None)"
   ]
  },
  {
   "cell_type": "code",
   "execution_count": 33,
   "metadata": {},
   "outputs": [
    {
     "data": {
      "text/html": [
       "<div>\n",
       "<style scoped>\n",
       "    .dataframe tbody tr th:only-of-type {\n",
       "        vertical-align: middle;\n",
       "    }\n",
       "\n",
       "    .dataframe tbody tr th {\n",
       "        vertical-align: top;\n",
       "    }\n",
       "\n",
       "    .dataframe thead th {\n",
       "        text-align: right;\n",
       "    }\n",
       "</style>\n",
       "<table border=\"1\" class=\"dataframe\">\n",
       "  <thead>\n",
       "    <tr style=\"text-align: right;\">\n",
       "      <th></th>\n",
       "      <th>0</th>\n",
       "      <th>1</th>\n",
       "      <th>2</th>\n",
       "      <th>3</th>\n",
       "    </tr>\n",
       "  </thead>\n",
       "  <tbody>\n",
       "    <tr>\n",
       "      <th>0</th>\n",
       "      <td>never talk to me again</td>\n",
       "      <td>3</td>\n",
       "      <td>NaN</td>\n",
       "      <td>NaN</td>\n",
       "    </tr>\n",
       "    <tr>\n",
       "      <th>1</th>\n",
       "      <td>I am proud of your achievements</td>\n",
       "      <td>2</td>\n",
       "      <td>NaN</td>\n",
       "      <td>NaN</td>\n",
       "    </tr>\n",
       "    <tr>\n",
       "      <th>2</th>\n",
       "      <td>It is the worst day in my life</td>\n",
       "      <td>3</td>\n",
       "      <td>NaN</td>\n",
       "      <td>NaN</td>\n",
       "    </tr>\n",
       "    <tr>\n",
       "      <th>3</th>\n",
       "      <td>Miss you so much</td>\n",
       "      <td>0</td>\n",
       "      <td>NaN</td>\n",
       "      <td>[0]</td>\n",
       "    </tr>\n",
       "    <tr>\n",
       "      <th>4</th>\n",
       "      <td>food is life</td>\n",
       "      <td>4</td>\n",
       "      <td>NaN</td>\n",
       "      <td>NaN</td>\n",
       "    </tr>\n",
       "  </tbody>\n",
       "</table>\n",
       "</div>"
      ],
      "text/plain": [
       "                                 0  1   2     3\n",
       "0           never talk to me again  3 NaN   NaN\n",
       "1  I am proud of your achievements  2 NaN   NaN\n",
       "2   It is the worst day in my life  3 NaN   NaN\n",
       "3                 Miss you so much  0 NaN   [0]\n",
       "4                     food is life  4 NaN   NaN"
      ]
     },
     "execution_count": 33,
     "metadata": {},
     "output_type": "execute_result"
    }
   ],
   "source": [
    "data.head(5)"
   ]
  },
  {
   "cell_type": "code",
   "execution_count": 34,
   "metadata": {},
   "outputs": [],
   "source": [
    "emoji_dict = {\n",
    "    \"0\" : \":beating_heart:\",\n",
    "    \"1\" : \":baseball:\",\n",
    "    \"2\" : \":smile:\",\n",
    "    \"3\" : \":disappointed:\",\n",
    "    \"4\" : \":fork_and_knife:\"\n",
    "}"
   ]
  },
  {
   "cell_type": "code",
   "execution_count": 35,
   "metadata": {},
   "outputs": [
    {
     "name": "stdout",
     "output_type": "stream",
     "text": [
      "⚾\n",
      "💓\n",
      "😞\n",
      "😄\n",
      "🍴\n"
     ]
    }
   ],
   "source": [
    "for ix in emoji_dict.keys():\n",
    "    print emoji.emojize(emoji_dict[ix],use_aliases=True)"
   ]
  },
  {
   "cell_type": "code",
   "execution_count": 36,
   "metadata": {},
   "outputs": [],
   "source": [
    "X_train = data[0].values\n",
    "y_train = data[1].values"
   ]
  },
  {
   "cell_type": "code",
   "execution_count": 38,
   "metadata": {},
   "outputs": [],
   "source": [
    "for ix in range(X_train.shape[0]):\n",
    "    X_train[ix] = X_train[ix].lower().split()"
   ]
  },
  {
   "cell_type": "code",
   "execution_count": 39,
   "metadata": {},
   "outputs": [
    {
     "data": {
      "text/plain": [
       "['never', 'talk', 'to', 'me', 'again']"
      ]
     },
     "execution_count": 39,
     "metadata": {},
     "output_type": "execute_result"
    }
   ],
   "source": [
    "X_train[0]"
   ]
  },
  {
   "cell_type": "code",
   "execution_count": 40,
   "metadata": {},
   "outputs": [
    {
     "name": "stdout",
     "output_type": "stream",
     "text": [
      "😞\n"
     ]
    }
   ],
   "source": [
    "print (emoji.emojize(emoji_dict[str(y_train[0])],use_aliases=True))"
   ]
  },
  {
   "cell_type": "code",
   "execution_count": 41,
   "metadata": {},
   "outputs": [],
   "source": [
    "word_emb_matrix = read_glove_vectors(\"../glove.6B.50d.txt\")"
   ]
  },
  {
   "cell_type": "code",
   "execution_count": 42,
   "metadata": {},
   "outputs": [],
   "source": [
    "X = np.zeros((X_train.shape[0],50))"
   ]
  },
  {
   "cell_type": "code",
   "execution_count": 44,
   "metadata": {},
   "outputs": [],
   "source": [
    "def avg_vec(sen):\n",
    "    \n",
    "    sum_vec = word_emb_matrix[sen[0]]\n",
    "    \n",
    "    for ix in range(1,len(sen)):\n",
    "        sum_vec += word_emb_matrix[sen[ix]]\n",
    "    avg = sum_vec/float(len(sen))\n",
    "\n",
    "    return avg"
   ]
  },
  {
   "cell_type": "code",
   "execution_count": 45,
   "metadata": {},
   "outputs": [],
   "source": [
    "for ix in range(X.shape[0]):\n",
    "    X[ix] = avg_vec(X_train[ix])"
   ]
  },
  {
   "cell_type": "code",
   "execution_count": 47,
   "metadata": {},
   "outputs": [],
   "source": [
    "y = np_utils.to_categorical(y_train)"
   ]
  },
  {
   "cell_type": "code",
   "execution_count": 48,
   "metadata": {},
   "outputs": [
    {
     "name": "stdout",
     "output_type": "stream",
     "text": [
      "((132, 50), (132, 5))\n"
     ]
    }
   ],
   "source": [
    "print (X.shape,y.shape)"
   ]
  },
  {
   "cell_type": "code",
   "execution_count": 81,
   "metadata": {},
   "outputs": [
    {
     "name": "stdout",
     "output_type": "stream",
     "text": [
      "_________________________________________________________________\n",
      "Layer (type)                 Output Shape              Param #   \n",
      "=================================================================\n",
      "dense_9 (Dense)              (None, 16)                816       \n",
      "_________________________________________________________________\n",
      "dense_10 (Dense)             (None, 5)                 85        \n",
      "=================================================================\n",
      "Total params: 901\n",
      "Trainable params: 901\n",
      "Non-trainable params: 0\n",
      "_________________________________________________________________\n"
     ]
    }
   ],
   "source": [
    "model = Sequential()\n",
    "\n",
    "model.add(Dense(16,activation='relu',input_shape=(50,)))\n",
    "model.add(Dense(5,activation='softmax'))\n",
    "\n",
    "model.summary()"
   ]
  },
  {
   "cell_type": "code",
   "execution_count": 82,
   "metadata": {},
   "outputs": [],
   "source": [
    "adam = Adam(decay=0.002)"
   ]
  },
  {
   "cell_type": "code",
   "execution_count": 83,
   "metadata": {},
   "outputs": [],
   "source": [
    "model.compile(loss='categorical_crossentropy',optimizer=adam,metrics=['accuracy'])"
   ]
  },
  {
   "cell_type": "code",
   "execution_count": 84,
   "metadata": {
    "scrolled": true
   },
   "outputs": [
    {
     "name": "stdout",
     "output_type": "stream",
     "text": [
      "Epoch 1/100\n",
      "132/132 [==============================] - 0s 3ms/step - loss: 6.7980 - acc: 0.1288\n",
      "Epoch 2/100\n",
      "132/132 [==============================] - 0s 465us/step - loss: 6.2964 - acc: 0.1288\n",
      "Epoch 3/100\n",
      "132/132 [==============================] - 0s 353us/step - loss: 5.7612 - acc: 0.1667\n",
      "Epoch 4/100\n",
      "132/132 [==============================] - 0s 413us/step - loss: 5.0447 - acc: 0.2197\n",
      "Epoch 5/100\n",
      "132/132 [==============================] - 0s 403us/step - loss: 4.6358 - acc: 0.2500\n",
      "Epoch 6/100\n",
      "132/132 [==============================] - 0s 419us/step - loss: 4.0498 - acc: 0.2197\n",
      "Epoch 7/100\n",
      "132/132 [==============================] - 0s 373us/step - loss: 3.6926 - acc: 0.2121\n",
      "Epoch 8/100\n",
      "132/132 [==============================] - 0s 403us/step - loss: 3.1989 - acc: 0.1970\n",
      "Epoch 9/100\n",
      "132/132 [==============================] - 0s 441us/step - loss: 3.3464 - acc: 0.2803\n",
      "Epoch 10/100\n",
      "132/132 [==============================] - 0s 500us/step - loss: 3.0672 - acc: 0.2727\n",
      "Epoch 11/100\n",
      "132/132 [==============================] - 0s 387us/step - loss: 3.0735 - acc: 0.2500\n",
      "Epoch 12/100\n",
      "132/132 [==============================] - 0s 416us/step - loss: 2.9052 - acc: 0.2576\n",
      "Epoch 13/100\n",
      "132/132 [==============================] - 0s 426us/step - loss: 2.8980 - acc: 0.3030\n",
      "Epoch 14/100\n",
      "132/132 [==============================] - 0s 369us/step - loss: 2.8715 - acc: 0.2955\n",
      "Epoch 15/100\n",
      "132/132 [==============================] - 0s 443us/step - loss: 2.7688 - acc: 0.3182\n",
      "Epoch 16/100\n",
      "132/132 [==============================] - 0s 483us/step - loss: 2.7390 - acc: 0.3485\n",
      "Epoch 17/100\n",
      "132/132 [==============================] - 0s 417us/step - loss: 2.7595 - acc: 0.3485\n",
      "Epoch 18/100\n",
      "132/132 [==============================] - 0s 514us/step - loss: 2.6285 - acc: 0.3409\n",
      "Epoch 19/100\n",
      "132/132 [==============================] - 0s 584us/step - loss: 2.6209 - acc: 0.3030\n",
      "Epoch 20/100\n",
      "132/132 [==============================] - 0s 336us/step - loss: 2.6061 - acc: 0.2955\n",
      "Epoch 21/100\n",
      "132/132 [==============================] - 0s 533us/step - loss: 2.5263 - acc: 0.3485\n",
      "Epoch 22/100\n",
      "132/132 [==============================] - 0s 541us/step - loss: 2.5339 - acc: 0.3258\n",
      "Epoch 23/100\n",
      "132/132 [==============================] - 0s 597us/step - loss: 2.4987 - acc: 0.3409\n",
      "Epoch 24/100\n",
      "132/132 [==============================] - 0s 291us/step - loss: 2.4462 - acc: 0.3712\n",
      "Epoch 25/100\n",
      "132/132 [==============================] - 0s 462us/step - loss: 2.4176 - acc: 0.3485\n",
      "Epoch 26/100\n",
      "132/132 [==============================] - 0s 341us/step - loss: 2.3865 - acc: 0.3561\n",
      "Epoch 27/100\n",
      "132/132 [==============================] - 0s 476us/step - loss: 2.3469 - acc: 0.3485\n",
      "Epoch 28/100\n",
      "132/132 [==============================] - 0s 426us/step - loss: 2.3066 - acc: 0.3636\n",
      "Epoch 29/100\n",
      "132/132 [==============================] - 0s 538us/step - loss: 2.2801 - acc: 0.3409\n",
      "Epoch 30/100\n",
      "132/132 [==============================] - 0s 495us/step - loss: 2.1178 - acc: 0.3333\n",
      "Epoch 31/100\n",
      "132/132 [==============================] - 0s 334us/step - loss: 1.8612 - acc: 0.3409\n",
      "Epoch 32/100\n",
      "132/132 [==============================] - 0s 485us/step - loss: 1.6096 - acc: 0.3333\n",
      "Epoch 33/100\n",
      "132/132 [==============================] - 0s 326us/step - loss: 1.7916 - acc: 0.3258\n",
      "Epoch 34/100\n",
      "132/132 [==============================] - 0s 487us/step - loss: 1.6470 - acc: 0.3258\n",
      "Epoch 35/100\n",
      "132/132 [==============================] - 0s 524us/step - loss: 1.7903 - acc: 0.3788\n",
      "Epoch 36/100\n",
      "132/132 [==============================] - 0s 461us/step - loss: 1.8443 - acc: 0.3939\n",
      "Epoch 37/100\n",
      "132/132 [==============================] - 0s 376us/step - loss: 1.6828 - acc: 0.3485\n",
      "Epoch 38/100\n",
      "132/132 [==============================] - 0s 489us/step - loss: 1.6231 - acc: 0.3333\n",
      "Epoch 39/100\n",
      "132/132 [==============================] - 0s 403us/step - loss: 1.6394 - acc: 0.3030\n",
      "Epoch 40/100\n",
      "132/132 [==============================] - 0s 438us/step - loss: 1.6143 - acc: 0.3030\n",
      "Epoch 41/100\n",
      "132/132 [==============================] - 0s 443us/step - loss: 1.5617 - acc: 0.3409\n",
      "Epoch 42/100\n",
      "132/132 [==============================] - 0s 475us/step - loss: 1.5553 - acc: 0.3409\n",
      "Epoch 43/100\n",
      "132/132 [==============================] - 0s 478us/step - loss: 1.5249 - acc: 0.3485\n",
      "Epoch 44/100\n",
      "132/132 [==============================] - 0s 594us/step - loss: 1.5701 - acc: 0.3788\n",
      "Epoch 45/100\n",
      "132/132 [==============================] - 0s 464us/step - loss: 1.5008 - acc: 0.3939\n",
      "Epoch 46/100\n",
      "132/132 [==============================] - 0s 490us/step - loss: 1.5193 - acc: 0.4091\n",
      "Epoch 47/100\n",
      "132/132 [==============================] - 0s 548us/step - loss: 1.4921 - acc: 0.4015\n",
      "Epoch 48/100\n",
      "132/132 [==============================] - 0s 608us/step - loss: 1.5317 - acc: 0.4242\n",
      "Epoch 49/100\n",
      "132/132 [==============================] - 0s 257us/step - loss: 1.4520 - acc: 0.4318\n",
      "Epoch 50/100\n",
      "132/132 [==============================] - 0s 337us/step - loss: 1.4897 - acc: 0.4091\n",
      "Epoch 51/100\n",
      "132/132 [==============================] - 0s 423us/step - loss: 1.4740 - acc: 0.4318\n",
      "Epoch 52/100\n",
      "132/132 [==============================] - 0s 270us/step - loss: 1.4900 - acc: 0.4167\n",
      "Epoch 53/100\n",
      "132/132 [==============================] - 0s 375us/step - loss: 1.4838 - acc: 0.4091\n",
      "Epoch 54/100\n",
      "132/132 [==============================] - 0s 383us/step - loss: 1.4565 - acc: 0.4015\n",
      "Epoch 55/100\n",
      "132/132 [==============================] - 0s 391us/step - loss: 1.4438 - acc: 0.4167\n",
      "Epoch 56/100\n",
      "132/132 [==============================] - 0s 295us/step - loss: 1.4358 - acc: 0.4167\n",
      "Epoch 57/100\n",
      "132/132 [==============================] - 0s 250us/step - loss: 1.4368 - acc: 0.4167\n",
      "Epoch 58/100\n",
      "132/132 [==============================] - 0s 468us/step - loss: 1.4650 - acc: 0.4015\n",
      "Epoch 59/100\n",
      "132/132 [==============================] - 0s 288us/step - loss: 1.4573 - acc: 0.4394\n",
      "Epoch 60/100\n",
      "132/132 [==============================] - 0s 377us/step - loss: 1.4570 - acc: 0.4621\n",
      "Epoch 61/100\n",
      "132/132 [==============================] - 0s 406us/step - loss: 1.4517 - acc: 0.4242\n",
      "Epoch 62/100\n",
      "132/132 [==============================] - 0s 506us/step - loss: 1.5130 - acc: 0.4167\n",
      "Epoch 63/100\n",
      "132/132 [==============================] - 0s 502us/step - loss: 1.4214 - acc: 0.4470\n",
      "Epoch 64/100\n",
      "132/132 [==============================] - 0s 400us/step - loss: 1.4732 - acc: 0.4470\n",
      "Epoch 65/100\n",
      "132/132 [==============================] - 0s 350us/step - loss: 1.4470 - acc: 0.4470\n",
      "Epoch 66/100\n",
      "132/132 [==============================] - 0s 480us/step - loss: 1.5811 - acc: 0.4167\n",
      "Epoch 67/100\n",
      "132/132 [==============================] - 0s 363us/step - loss: 1.9062 - acc: 0.3864\n",
      "Epoch 68/100\n",
      "132/132 [==============================] - 0s 466us/step - loss: 1.7540 - acc: 0.3788\n",
      "Epoch 69/100\n",
      "132/132 [==============================] - 0s 345us/step - loss: 1.6175 - acc: 0.4015\n",
      "Epoch 70/100\n",
      "132/132 [==============================] - 0s 414us/step - loss: 1.4216 - acc: 0.4697\n",
      "Epoch 71/100\n",
      "132/132 [==============================] - 0s 329us/step - loss: 1.5945 - acc: 0.4394\n",
      "Epoch 72/100\n",
      "132/132 [==============================] - 0s 372us/step - loss: 1.4967 - acc: 0.4621\n",
      "Epoch 73/100\n",
      "132/132 [==============================] - 0s 417us/step - loss: 1.4741 - acc: 0.4470\n",
      "Epoch 74/100\n",
      "132/132 [==============================] - 0s 386us/step - loss: 1.4696 - acc: 0.4242\n",
      "Epoch 75/100\n",
      "132/132 [==============================] - 0s 300us/step - loss: 1.4388 - acc: 0.4545\n",
      "Epoch 76/100\n",
      "132/132 [==============================] - 0s 513us/step - loss: 1.4020 - acc: 0.4394\n",
      "Epoch 77/100\n",
      "132/132 [==============================] - 0s 375us/step - loss: 1.3933 - acc: 0.4924\n",
      "Epoch 78/100\n",
      "132/132 [==============================] - 0s 295us/step - loss: 1.4068 - acc: 0.4773\n",
      "Epoch 79/100\n",
      "132/132 [==============================] - 0s 371us/step - loss: 1.3841 - acc: 0.4773\n",
      "Epoch 80/100\n",
      "132/132 [==============================] - 0s 437us/step - loss: 1.4539 - acc: 0.4318\n",
      "Epoch 81/100\n",
      "132/132 [==============================] - 0s 352us/step - loss: 1.5667 - acc: 0.4318\n",
      "Epoch 82/100\n",
      "132/132 [==============================] - 0s 545us/step - loss: 1.5575 - acc: 0.4167\n",
      "Epoch 83/100\n"
     ]
    },
    {
     "name": "stdout",
     "output_type": "stream",
     "text": [
      "132/132 [==============================] - 0s 288us/step - loss: 1.5439 - acc: 0.4167\n",
      "Epoch 84/100\n",
      "132/132 [==============================] - 0s 401us/step - loss: 1.6664 - acc: 0.4167\n",
      "Epoch 85/100\n",
      "132/132 [==============================] - 0s 330us/step - loss: 1.4794 - acc: 0.4545\n",
      "Epoch 86/100\n",
      "132/132 [==============================] - 0s 531us/step - loss: 1.4597 - acc: 0.4470\n",
      "Epoch 87/100\n",
      "132/132 [==============================] - 0s 564us/step - loss: 1.4255 - acc: 0.4318\n",
      "Epoch 88/100\n",
      "132/132 [==============================] - 0s 461us/step - loss: 1.3776 - acc: 0.4545\n",
      "Epoch 89/100\n",
      "132/132 [==============================] - 0s 419us/step - loss: 1.3946 - acc: 0.4394\n",
      "Epoch 90/100\n",
      "132/132 [==============================] - 0s 295us/step - loss: 1.3915 - acc: 0.4242\n",
      "Epoch 91/100\n",
      "132/132 [==============================] - 0s 523us/step - loss: 1.4341 - acc: 0.4242\n",
      "Epoch 92/100\n",
      "132/132 [==============================] - 0s 348us/step - loss: 1.4728 - acc: 0.4394\n",
      "Epoch 93/100\n",
      "132/132 [==============================] - 0s 253us/step - loss: 1.4411 - acc: 0.4545\n",
      "Epoch 94/100\n",
      "132/132 [==============================] - 0s 565us/step - loss: 1.3790 - acc: 0.4697\n",
      "Epoch 95/100\n",
      "132/132 [==============================] - 0s 289us/step - loss: 1.3897 - acc: 0.4697\n",
      "Epoch 96/100\n",
      "132/132 [==============================] - 0s 383us/step - loss: 1.3761 - acc: 0.4621\n",
      "Epoch 97/100\n",
      "132/132 [==============================] - 0s 354us/step - loss: 1.3861 - acc: 0.4621\n",
      "Epoch 98/100\n",
      "132/132 [==============================] - 0s 405us/step - loss: 1.3653 - acc: 0.4773\n",
      "Epoch 99/100\n",
      "132/132 [==============================] - 0s 421us/step - loss: 1.3790 - acc: 0.4697\n",
      "Epoch 100/100\n",
      "132/132 [==============================] - 0s 502us/step - loss: 1.3562 - acc: 0.4697\n"
     ]
    }
   ],
   "source": [
    "hist = model.fit(X,y,epochs=100,shuffle=True,batch_size=32)"
   ]
  },
  {
   "cell_type": "code",
   "execution_count": 85,
   "metadata": {},
   "outputs": [
    {
     "data": {
      "image/png": "[encoded data removed]",
      "text/plain": [
       "<Figure size 432x288 with 1 Axes>"
      ]
     },
     "metadata": {
      "needs_background": "light"
     },
     "output_type": "display_data"
    }
   ],
   "source": [
    "plt.figure()\n",
    "plt.plot(hist.history['acc'])\n",
    "plt.show()"
   ]
  },
  {
   "cell_type": "code",
   "execution_count": 86,
   "metadata": {},
   "outputs": [
    {
     "data": {
      "text/plain": [
       "[<matplotlib.lines.Line2D at 0x7f8e108e2390>]"
      ]
     },
     "execution_count": 86,
     "metadata": {},
     "output_type": "execute_result"
    },
    {
     "data": {
      "image/png": "[encoded data removed]",
      "text/plain": [
       "<Figure size 432x288 with 1 Axes>"
      ]
     },
     "metadata": {
      "needs_background": "light"
     },
     "output_type": "display_data"
    }
   ],
   "source": [
    "plt.plot(hist.history['loss'])"
   ]
  },
  {
   "cell_type": "code",
   "execution_count": 91,
   "metadata": {},
   "outputs": [
    {
     "name": "stdout",
     "output_type": "stream",
     "text": [
      "(1, 50)\n"
     ]
    }
   ],
   "source": [
    "test = \"i love this movie\"\n",
    "\n",
    "test = test.split()\n",
    "test = avg_vec(test).reshape(1,-1)\n",
    "print test.shape"
   ]
  },
  {
   "cell_type": "code",
   "execution_count": 93,
   "metadata": {},
   "outputs": [],
   "source": [
    "y_pred = model.predict_classes(test)"
   ]
  },
  {
   "cell_type": "code",
   "execution_count": 96,
   "metadata": {},
   "outputs": [
    {
     "name": "stdout",
     "output_type": "stream",
     "text": [
      "i love this movie\n",
      "😄\n"
     ]
    }
   ],
   "source": [
    "print (\"i love this movie\")\n",
    "print (emoji.emojize(emoji_dict[str(y_pred[0])],use_aliases=True))"
   ]
  }
 ],
 "metadata": {
  "kernelspec": {
   "display_name": "Python 3",
   "language": "python",
   "name": "python3"
  },
  "language_info": {
   "codemirror_mode": {
    "name": "ipython",
    "version": 2
   },
   "file_extension": ".py",
   "mimetype": "text/x-python",
   "name": "python",
   "nbconvert_exporter": "python",
   "pygments_lexer": "ipython2",
   "version": "2.7.15rc1"
  }
 },
 "nbformat": 4,
 "nbformat_minor": 2
}
